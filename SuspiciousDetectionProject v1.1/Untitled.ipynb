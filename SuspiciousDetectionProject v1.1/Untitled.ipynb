{
 "cells": [
  {
   "cell_type": "code",
   "execution_count": 1,
   "id": "nasty-workshop",
   "metadata": {},
   "outputs": [
    {
     "ename": "SystemExit",
     "evalue": "0",
     "output_type": "error",
     "traceback": [
      "An exception has occurred, use %tb to see the full traceback.\n",
      "\u001b[1;31mSystemExit\u001b[0m\u001b[1;31m:\u001b[0m 0\n"
     ]
    },
    {
     "name": "stderr",
     "output_type": "stream",
     "text": [
      "c:\\users\\pranjali\\appdata\\local\\programs\\python\\python37\\lib\\site-packages\\IPython\\core\\interactiveshell.py:3445: UserWarning: To exit: use 'exit', 'quit', or Ctrl-D.\n",
      "  warn(\"To exit: use 'exit', 'quit', or Ctrl-D.\", stacklevel=1)\n"
     ]
    }
   ],
   "source": [
    "import sys\n",
    "from PyQt5.QtWidgets import *\n",
    "\t\t\t\t\t\n",
    "\n",
    "#Main Window\n",
    "class App(QWidget):\n",
    "\tdef __init__(self):\n",
    "\t\tsuper().__init__()\n",
    "\t\tself.title = 'PyQt5 - QTableWidget'\n",
    "\t\tself.left = 0\n",
    "\t\tself.top = 0\n",
    "\t\tself.width = 300\n",
    "\t\tself.height = 200\n",
    "\n",
    "\t\tself.setWindowTitle(self.title)\n",
    "\t\tself.setGeometry(self.left, self.top, self.width, self.height)\n",
    "\n",
    "\t\tself.createTable()\n",
    "\n",
    "\t\tself.layout = QVBoxLayout()\n",
    "\t\tself.layout.addWidget(self.tableWidget)\n",
    "\t\tself.setLayout(self.layout)\n",
    "\n",
    "\t\t#Show window\n",
    "\t\tself.show()\n",
    "\n",
    "\t#Create table\n",
    "\tdef createTable(self):\n",
    "\t\tself.tableWidget = QTableWidget()\n",
    "\n",
    "\t\t#Row count\n",
    "\t\tself.tableWidget.setRowCount(4)\n",
    "\n",
    "\t\t#Column count\n",
    "\t\tself.tableWidget.setColumnCount(2)\n",
    "\n",
    "\t\tself.tableWidget.setItem(0,0, QTableWidgetItem(\"Name\"))\n",
    "\t\tself.tableWidget.setItem(0,1, QTableWidgetItem(\"City\"))\n",
    "\t\tself.tableWidget.setItem(1,0, QTableWidgetItem(\"Aloysius\"))\n",
    "\t\tself.tableWidget.setItem(1,1, QTableWidgetItem(\"Indore\"))\n",
    "\t\tself.tableWidget.setItem(2,0, QTableWidgetItem(\"Alan\"))\n",
    "\t\tself.tableWidget.setItem(2,1, QTableWidgetItem(\"Bhopal\"))\n",
    "\t\tself.tableWidget.setItem(3,0, QTableWidgetItem(\"Arnavi\"))\n",
    "\t\tself.tableWidget.setItem(3,1, QTableWidgetItem(\"Mandsaur\"))\n",
    "\n",
    "\t\t#Table will fit the screen horizontally\n",
    "\t\tself.tableWidget.horizontalHeader().setStretchLastSection(True)\n",
    "\t\tself.tableWidget.horizontalHeader().setSectionResizeMode(\n",
    "\t\t\tQHeaderView.Stretch)\n",
    "\n",
    "if __name__ == '__main__':\n",
    "\tapp = QApplication(sys.argv)\n",
    "\tex = App()\n",
    "\tsys.exit(app.exec_())\n"
   ]
  },
  {
   "cell_type": "code",
   "execution_count": 8,
   "id": "healthy-blond",
   "metadata": {},
   "outputs": [
    {
     "name": "stdout",
     "output_type": "stream",
     "text": [
      "1\n",
      "2021-07-11\n",
      "D:/DCSASS Dataset/vid1.mp4\n",
      "0:00:01.60, 0:00:14.40 0:00:17.60, 0:00:25.60 0:00:28.80, 0:00:51.20 0:00:54.40, 0:00:56 0:01:04, 0:01:10.40\n"
     ]
    }
   ],
   "source": [
    "import pymysql as p\n",
    "userID=\"pnsvpranjali@gmail.com\"\n",
    "def get_record(Type):\n",
    "    \n",
    "    con=p.connect(host='localhost',user='root',password='',db='analysis',charset='utf8mb4',cursorclass=p.cursors.DictCursor)\n",
    "    cur=con.cursor()\n",
    "    \n",
    "    if Type == 1:\n",
    "        q=\"select date,filename,timestamps from videofile_history where emailid='%s'\";\n",
    "    else:\n",
    "        q=\"select date,timestamps from videofeed_history where emailid='%s'\";\n",
    "        \n",
    "    cur.execute(q %(userID))\n",
    "    data=cur.fetchall()\n",
    "    \n",
    "    con.commit()\n",
    "    con.close()\n",
    "    \n",
    "    return data\n",
    "\n",
    "l=get_record(1)\n",
    "print(len(l))\n",
    "for d in l:\n",
    "    print(d['date'])\n",
    "    print(d['filename'])\n",
    "    print(d['timestamps'])\n",
    "\n"
   ]
  },
  {
   "cell_type": "code",
   "execution_count": null,
   "id": "caroline-amino",
   "metadata": {},
   "outputs": [],
   "source": []
  }
 ],
 "metadata": {
  "kernelspec": {
   "display_name": "Python 3",
   "language": "python",
   "name": "python3"
  },
  "language_info": {
   "codemirror_mode": {
    "name": "ipython",
    "version": 3
   },
   "file_extension": ".py",
   "mimetype": "text/x-python",
   "name": "python",
   "nbconvert_exporter": "python",
   "pygments_lexer": "ipython3",
   "version": "3.7.7"
  }
 },
 "nbformat": 4,
 "nbformat_minor": 5
}
