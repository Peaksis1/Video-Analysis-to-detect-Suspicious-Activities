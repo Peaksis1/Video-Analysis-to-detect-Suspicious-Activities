{
 "cells": [
  {
   "cell_type": "code",
   "execution_count": 79,
   "metadata": {},
   "outputs": [],
   "source": [
    "import smtplib\n",
    "import string\n",
    "\n",
    "def smtp_gmail(timestampList,email_to):\n",
    "    username = \"susactivitydetectionteam@gmail.com\"\n",
    "    password = \"prakhars\"\n",
    "    email_from = \"Suspicion Detection Team\"\n",
    "    email_body = \"\\r\\n\".join([\n",
    "  \"From: Suspicion Detection Team\",\n",
    "  \"To:\"+email_to,\n",
    "  \"Subject: Alert!! Suspicious Activity Detected\",\n",
    "  \"\",\n",
    "  \"Suspicious Activity Detected. Please refer to Timestamps.\"\n",
    "  ])\n",
    "    server = smtplib.SMTP('smtp.gmail.com',587)\n",
    "    server.ehlo()\n",
    "    server.starttls()\n",
    "    server.login(username, password)\n",
    "    server.ehlo()\n",
    "    server.sendmail(email_from, email_to, email_body)\n",
    "    server.quit()"
   ]
  },
  {
   "cell_type": "code",
   "execution_count": 80,
   "metadata": {},
   "outputs": [],
   "source": [
    "smtp_gmail(['asd'],'peaks786@gmail.com')"
   ]
  },
  {
   "cell_type": "code",
   "execution_count": 2,
   "metadata": {},
   "outputs": [
    {
     "name": "stdout",
     "output_type": "stream",
     "text": [
      "Collecting playsound\n",
      "  Downloading playsound-1.2.2-py2.py3-none-any.whl (6.0 kB)\n",
      "Installing collected packages: playsound\n",
      "Successfully installed playsound-1.2.2\n",
      "Note: you may need to restart the kernel to use updated packages.\n"
     ]
    }
   ],
   "source": [
    "pip install playsound"
   ]
  },
  {
   "cell_type": "code",
   "execution_count": 7,
   "metadata": {
    "scrolled": true
   },
   "outputs": [
    {
     "name": "stdout",
     "output_type": "stream",
     "text": [
      "press ENTER to stop playback\n"
     ]
    }
   ],
   "source": [
    "from playsound import playsound\n",
    "import os\n",
    "from datetime import datetime\n",
    "import multiprocessing\n",
    "def ringAlarm():\n",
    "    if not os.path.isfile('lastringtime.txt'):\n",
    "        file = open(\"lastringtime.txt\", \"w\") \n",
    "        file.write(str(int(datetime.now().timestamp())))\n",
    "        f = 1\n",
    "    else:\n",
    "        file = open(\"lastringtime.txt\", \"r\")\n",
    "        if(int(datetime.now().timestamp())-int(file.read())>900):\n",
    "            f=1\n",
    "        else:\n",
    "            f=0\n",
    "    if f==1:\n",
    "        p = multiprocessing.Process(target=playsound, args=(\"alarmFile.mp3\",))\n",
    "        p.start()\n",
    "        input(\"press ENTER to stop playback\")\n",
    "        p.terminate()\n",
    "    else:\n",
    "        print(\"Last Alarm rang in less than 15 mins. Alarm will not ring\")\n",
    "    \n",
    "def checkAlarm(timestampList):\n",
    "    for i in timestampList:\n",
    "        j = i.split(\",\")\n",
    "        j[0] = datetime.strptime(j[0], '%d/%m/%Y %H:%M:%S')\n",
    "        j[1] = datetime.strptime(j[1], '%d/%m/%Y %H:%M:%S')\n",
    "        c = j[1] - j[0]\n",
    "        if (j[1] - j[0]).total_seconds() > 5:\n",
    "            ringAlarm()\n",
    "    \n",
    "checkAlarm(['06/05/2021 09:31:50,06/05/2021 09:32:00'])"
   ]
  },
  {
   "cell_type": "code",
   "execution_count": null,
   "metadata": {},
   "outputs": [],
   "source": []
  }
 ],
 "metadata": {
  "kernelspec": {
   "display_name": "Python 3",
   "language": "python",
   "name": "python3"
  },
  "language_info": {
   "codemirror_mode": {
    "name": "ipython",
    "version": 3
   },
   "file_extension": ".py",
   "mimetype": "text/x-python",
   "name": "python",
   "nbconvert_exporter": "python",
   "pygments_lexer": "ipython3",
   "version": "3.7.9"
  }
 },
 "nbformat": 4,
 "nbformat_minor": 4
}
